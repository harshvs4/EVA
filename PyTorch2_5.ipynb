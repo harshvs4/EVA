{
  "nbformat": 4,
  "nbformat_minor": 0,
  "metadata": {
    "colab": {
      "provenance": [],
      "authorship_tag": "ABX9TyMNCEDJct3pok8FE+d/w9Na",
      "include_colab_link": true
    },
    "kernelspec": {
      "name": "python3",
      "display_name": "Python 3"
    },
    "language_info": {
      "name": "python"
    },
    "accelerator": "GPU",
    "gpuClass": "standard"
  },
  "cells": [
    {
      "cell_type": "markdown",
      "metadata": {
        "id": "view-in-github",
        "colab_type": "text"
      },
      "source": [
        "<a href=\"https://colab.research.google.com/github/harshvs4/EVA/blob/main/PyTorch2_5.ipynb\" target=\"_parent\"><img src=\"https://colab.research.google.com/assets/colab-badge.svg\" alt=\"Open In Colab\"/></a>"
      ]
    },
    {
      "cell_type": "markdown",
      "source": [
        "# **Importing Libraries**"
      ],
      "metadata": {
        "id": "1QKNv3D8ejsH"
      }
    },
    {
      "cell_type": "code",
      "source": [
        "import torch\n",
        "import torch.nn as nn\n",
        "import torch.nn.functional as F\n",
        "import torch.optim as optim\n",
        "import torchvision\n",
        "import torchvision.transforms as transforms\n",
        "from torch.utils.data import Dataset, TensorDataset\n",
        "from torch.utils.data import DataLoader\n",
        "\n",
        "import matplotlib.pyplot as plt\n",
        "import numpy as np\n",
        "\n",
        "import random"
      ],
      "metadata": {
        "id": "sA-7sDd9ev0C"
      },
      "execution_count": 1,
      "outputs": []
    },
    {
      "cell_type": "code",
      "source": [
        "# check if cuda is available\n",
        "use_cuda = torch.cuda.is_available()\n",
        "device = torch.device(\"cuda\" if use_cuda else \"cpu\")\n",
        "model = Net().to(device)"
      ],
      "metadata": {
        "id": "-WkQq-kaeyaZ"
      },
      "execution_count": 31,
      "outputs": []
    },
    {
      "cell_type": "markdown",
      "source": [
        "## **Creating DataSet**"
      ],
      "metadata": {
        "id": "zgbzXFWFe3fp"
      }
    },
    {
      "cell_type": "code",
      "source": [
        "#Creating Dataset\n",
        "\n",
        "class MNISTdatasetRandomNumber(Dataset):\n",
        "  def __init__(self, MNISTDataset):\n",
        "    self.MNISTDataset = MNISTDataset\n",
        "\n",
        "  def __getitem__(self, index):\n",
        "    image = self.MNISTDataset[index][0]\n",
        "    label = self.MNISTDataset[index][1]\n",
        "    randomNo = random.randint(0, 9)\n",
        "    oneHotRandomNo = torch.nn.functional.one_hot(torch.arange(0, 10))\n",
        "    sum = label + randomNo\n",
        "    return image, label, oneHotRandomNo[randomNo], sum\n",
        "  \n",
        "  def __len__(self):\n",
        "    return len(self.MNISTDataset)"
      ],
      "metadata": {
        "id": "Nip83UiDe2eJ"
      },
      "execution_count": 67,
      "outputs": []
    },
    {
      "cell_type": "code",
      "source": [
        "#torch.nn.functional.one_hot(torch.arange(0, 10))"
      ],
      "metadata": {
        "id": "NrjZrCnlkUrr"
      },
      "execution_count": 5,
      "outputs": []
    },
    {
      "cell_type": "code",
      "source": [
        "# torchvision.datasets.MNIST outputs a set of PIL images\n",
        "# We transform them to tensors\n",
        "transform = transforms.ToTensor()\n",
        "\n",
        "# Load and transform data\n",
        "MNIST_train = torchvision.datasets.MNIST('./tmp', train=True, download=True, transform=transform)\n",
        "MNIST_trainset, MNIST_valset = torch.utils.data.random_split(MNIST_train, [55000, 5000])\n",
        "MNIST_testset = torchvision.datasets.MNIST('./tmp', train=False, download=True, transform=transform)"
      ],
      "metadata": {
        "id": "X8AFjIDhkcva"
      },
      "execution_count": 68,
      "outputs": []
    },
    {
      "cell_type": "code",
      "source": [
        "train_dataset = MNISTdatasetRandomNumber(MNIST_trainset)\n",
        "val_dataset = MNISTdatasetRandomNumber(MNIST_valset)\n",
        "test_dataset = MNISTdatasetRandomNumber(MNIST_testset)"
      ],
      "metadata": {
        "id": "l808GKV0mdzL"
      },
      "execution_count": 69,
      "outputs": []
    },
    {
      "cell_type": "code",
      "source": [
        "train_loader = DataLoader(train_dataset,batch_size=128,shuffle=True)\n",
        "val_loader = DataLoader(val_dataset,batch_size=128)\n",
        "test_loader = DataLoader(test_dataset,batch_size=128)"
      ],
      "metadata": {
        "id": "Qj28JSDiqF9M"
      },
      "execution_count": 70,
      "outputs": []
    },
    {
      "cell_type": "code",
      "source": [
        "dataiter = iter(train_loader)\n",
        "image, label, randomNo, sum = next(dataiter)\n",
        "\n",
        "print('Images: ', image.shape)\n",
        "print('Labels: ', label.shape)\n",
        "print('Random Numbers: ', randomNo.shape)\n",
        "print('Sum: ', sum.shape)\n",
        "\n",
        "\n",
        "#print('Images: ', image)\n",
        "print('Labels: ', label)\n",
        "print('Random Numbers: ', randomNo)\n",
        "print('Sum: ', sum)\n"
      ],
      "metadata": {
        "colab": {
          "base_uri": "https://localhost:8080/"
        },
        "id": "_pzXohgjqOdV",
        "outputId": "d3dc710f-d7cb-45a7-a68c-1df31fd92f4d"
      },
      "execution_count": 72,
      "outputs": [
        {
          "output_type": "stream",
          "name": "stdout",
          "text": [
            "Images:  torch.Size([128, 1, 28, 28])\n",
            "Labels:  torch.Size([128])\n",
            "Random Numbers:  torch.Size([128, 10])\n",
            "Sum:  torch.Size([128])\n",
            "Labels:  tensor([8, 2, 3, 4, 6, 2, 7, 1, 1, 3, 1, 9, 5, 6, 6, 1, 9, 1, 9, 6, 1, 1, 1, 9,\n",
            "        8, 2, 1, 9, 4, 3, 7, 6, 8, 9, 1, 2, 1, 3, 1, 8, 1, 5, 8, 3, 7, 0, 9, 0,\n",
            "        9, 0, 4, 7, 2, 7, 2, 8, 2, 7, 7, 0, 3, 8, 5, 6, 8, 2, 8, 5, 9, 8, 7, 5,\n",
            "        9, 6, 6, 5, 8, 9, 6, 6, 8, 5, 4, 6, 3, 5, 0, 0, 2, 1, 7, 3, 2, 3, 7, 2,\n",
            "        8, 0, 5, 0, 9, 0, 8, 1, 6, 1, 8, 3, 6, 0, 7, 7, 2, 0, 6, 5, 8, 9, 3, 2,\n",
            "        4, 6, 2, 5, 8, 9, 2, 4])\n",
            "Random Numbers:  tensor([[0, 1, 0,  ..., 0, 0, 0],\n",
            "        [0, 0, 0,  ..., 0, 0, 0],\n",
            "        [0, 0, 0,  ..., 1, 0, 0],\n",
            "        ...,\n",
            "        [1, 0, 0,  ..., 0, 0, 0],\n",
            "        [0, 1, 0,  ..., 0, 0, 0],\n",
            "        [0, 0, 0,  ..., 0, 0, 0]])\n",
            "Sum:  tensor([ 9,  8, 10,  8, 15,  9, 15,  4,  4,  5,  8, 12,  5, 10, 10,  3, 16,  9,\n",
            "        15,  7, 10,  6,  7, 14, 14,  3,  5, 11, 11, 10,  8,  9, 15,  9, 10,  7,\n",
            "         2,  5,  5, 13,  3, 14, 15, 12, 11,  8, 16,  1, 13,  7, 12, 11,  6, 15,\n",
            "         6, 16,  7, 15, 12,  4, 11, 13,  8, 14,  8,  4, 14, 14, 15, 11, 12,  7,\n",
            "         9, 11,  7, 10,  8,  9, 11,  7, 12, 10, 10,  6,  8,  9,  3,  8, 11, 10,\n",
            "        16,  4,  5,  8,  9,  2, 13,  0, 14,  0, 13,  4, 17, 10, 14,  4, 15,  9,\n",
            "         8,  9,  9, 12,  6,  3,  8,  6, 14, 11,  9,  7, 11,  8,  6, 13, 13,  9,\n",
            "         3, 10])\n"
          ]
        }
      ]
    },
    {
      "cell_type": "code",
      "source": [
        "#next(iter(train_loader))"
      ],
      "metadata": {
        "id": "qjEaQnSvsdVS"
      },
      "execution_count": 43,
      "outputs": []
    },
    {
      "cell_type": "markdown",
      "source": [
        "## **Defining Network**"
      ],
      "metadata": {
        "id": "SoHyXoQ-vVJH"
      }
    },
    {
      "cell_type": "code",
      "source": [
        "class Net(nn.Module):\n",
        "    def __init__(self):\n",
        "        super(Net, self).__init__()\n",
        "        self.conv1 = nn.Conv2d(1, 32, 3, padding=1)       #Input: 28*28*1    Output:28 * 28 * 32    GRF:3 * 3  (GRF - Global Receptive Field)\n",
        "        self.conv2 = nn.Conv2d(32, 64, 3, padding=1)      #Input: 28*28*32   Output:28 * 28 * 64    GRF:5 * 5\n",
        "        self.pool1 = nn.MaxPool2d(2, 2)                   #Input: 28*28*64   Output:14 * 14 * 64    GRF:10*10 (for now we are considering that with max pooling, receptive field doubles - but this is not entirely correct)\n",
        "        self.conv3 = nn.Conv2d(64, 128, 3, padding=1)     #Input: 14*14*64   Output:14 * 14 * 128   GRF:12*12\n",
        "        self.conv4 = nn.Conv2d(128, 256, 3, padding=1)    #Input: 14*14*128  Output:14 * 14 * 256   GRF:14*14\n",
        "        self.pool2 = nn.MaxPool2d(2, 2)                   #Input: 14*14*256  Output: 7 * 7 * 256    GRF:28*28\n",
        "        self.conv5 = nn.Conv2d(256, 512, 3)               #Input: 7*7*256    Output: 5 * 5 * 12     GRF:30*30\n",
        "        self.conv6 = nn.Conv2d(512, 1024, 3)              #Input: 5*5*12     Output: 3 * 3 * 1024   GRF:32*32\n",
        "        self.conv7 = nn.Conv2d(1024, 10, 3)               #Input: 3*3*1024   Output: 1 * 1 * 10     GRF:34*34\n",
        "\n",
        "\n",
        "        self.fc1 = nn.Linear(10+10, 128)                  #Concatenate two inputs \n",
        "        # self.fc2 = nn.Linear(128, 30)\n",
        "        self.fc2 = nn.Linear(128, 19)\n",
        "\n",
        "    def forward(self, image, randomNumber):\n",
        "        #The first convolutional layer self.conv1 has a convolutional operation on input tensor x, followed by a relu activation operation \n",
        "        #whcih is then passed to second convolution operation self.conv2 followed by a relu whose output is then passed to a max pooling \n",
        "        x = self.pool1(F.relu(self.conv2(F.relu(self.conv1(image)))))\n",
        "\n",
        "        #The output of the max pool operation is passed to another two convolution and relu activation operation followed by max pooling. \n",
        "        #The relu() and the max_pool2d() calls are just pure operations. Neither of these have weights  \n",
        "        x = self.pool2(F.relu(self.conv4(F.relu(self.conv3(x)))))\n",
        "\n",
        "        #The output of the max pool operation from 4th convolution is passed to another two sets of convolution and relu activation operation\n",
        "        x = F.relu(self.conv6(F.relu(self.conv5(x))))\n",
        "\n",
        "        # The output from 6th convolution is then passed to a linear layer\n",
        "        x = self.conv7(x)  \n",
        "\n",
        "        #The flatten's all of the tensor's elements into a single dimension.\n",
        "        x = x.view(-1, 10)\n",
        "        \n",
        "        #concatenate second input to the output from above convolution\n",
        "        x1 = torch.cat((x, randomNumber), dim=1)\n",
        "        \n",
        "        # Further train the network on Dense Layer\n",
        "        x1 = F.relu(self.fc1(x1))\n",
        "        #x1 = F.relu(self.fc2(x1))    \n",
        "        x1 = self.fc2(x1)  \n",
        "\n",
        "        # Inside the network we usually use relu() as our non-linear activation function, but for the output layer, we use Softmax function for predicting category with maximum probability. \n",
        "        #The softmax function returns a positive probability for each of the prediction classes, and the values sum to 1.\n",
        "\n",
        "        #Model returns two outputs:\n",
        "          #Output1 : \"number\" represented by the MNIST image \n",
        "          #Output2 : \"sum\" of this number with the random number that was generated\n",
        "\n",
        "        return F.log_softmax(x, dim = 1), F.log_softmax(x1, dim = 1)"
      ],
      "metadata": {
        "id": "TWCRLLketst3"
      },
      "execution_count": 78,
      "outputs": []
    },
    {
      "cell_type": "code",
      "source": [
        "!pip install torchsummary\n",
        "from torchsummary import summary"
      ],
      "metadata": {
        "colab": {
          "base_uri": "https://localhost:8080/"
        },
        "id": "y2KvZrV56Ktj",
        "outputId": "e5e8f17c-dbbf-472b-e428-4252d6b97645"
      },
      "execution_count": 79,
      "outputs": [
        {
          "output_type": "stream",
          "name": "stdout",
          "text": [
            "Looking in indexes: https://pypi.org/simple, https://us-python.pkg.dev/colab-wheels/public/simple/\n",
            "Requirement already satisfied: torchsummary in /usr/local/lib/python3.8/dist-packages (1.5.1)\n"
          ]
        }
      ]
    },
    {
      "cell_type": "code",
      "source": [
        "print(model)"
      ],
      "metadata": {
        "colab": {
          "base_uri": "https://localhost:8080/"
        },
        "id": "4WUErEZr6QN4",
        "outputId": "352a3637-9ffa-4984-ff70-0a4b4cb8f4c9"
      },
      "execution_count": 80,
      "outputs": [
        {
          "output_type": "stream",
          "name": "stdout",
          "text": [
            "Net(\n",
            "  (conv1): Conv2d(1, 32, kernel_size=(3, 3), stride=(1, 1), padding=(1, 1))\n",
            "  (conv2): Conv2d(32, 64, kernel_size=(3, 3), stride=(1, 1), padding=(1, 1))\n",
            "  (pool1): MaxPool2d(kernel_size=2, stride=2, padding=0, dilation=1, ceil_mode=False)\n",
            "  (conv3): Conv2d(64, 128, kernel_size=(3, 3), stride=(1, 1), padding=(1, 1))\n",
            "  (conv4): Conv2d(128, 256, kernel_size=(3, 3), stride=(1, 1), padding=(1, 1))\n",
            "  (pool2): MaxPool2d(kernel_size=2, stride=2, padding=0, dilation=1, ceil_mode=False)\n",
            "  (conv5): Conv2d(256, 512, kernel_size=(3, 3), stride=(1, 1))\n",
            "  (conv6): Conv2d(512, 1024, kernel_size=(3, 3), stride=(1, 1))\n",
            "  (conv7): Conv2d(1024, 10, kernel_size=(3, 3), stride=(1, 1))\n",
            "  (fc1): Linear(in_features=20, out_features=128, bias=True)\n",
            "  (fc3): Linear(in_features=128, out_features=19, bias=True)\n",
            ")\n"
          ]
        }
      ]
    },
    {
      "cell_type": "markdown",
      "source": [
        "## **Training phase**"
      ],
      "metadata": {
        "id": "dBlVPppk-T5-"
      }
    },
    {
      "cell_type": "code",
      "source": [
        "len(train_loader)"
      ],
      "metadata": {
        "colab": {
          "base_uri": "https://localhost:8080/"
        },
        "id": "8fTxPzbY7aCS",
        "outputId": "c2324256-b186-4358-ed3a-666749223050"
      },
      "execution_count": 59,
      "outputs": [
        {
          "output_type": "execute_result",
          "data": {
            "text/plain": [
              "430"
            ]
          },
          "metadata": {},
          "execution_count": 59
        }
      ]
    },
    {
      "cell_type": "code",
      "source": [
        "def train(model, device, train_loader, optimizer, epoch):\n",
        "    # set the model in training model\n",
        "    model.train()\n",
        "\n",
        "    epoch_loss = 0\n",
        "\n",
        "    # run for all the data in train_loader\n",
        "    for batch_idx, (data, target, random_number, sum) in enumerate(train_loader):\n",
        "\n",
        "        # fetch the data and the target values\n",
        "        target = target.type(torch.LongTensor)\n",
        "        sum = sum.type(torch.LongTensor)\n",
        "\n",
        "        # move the data to device\n",
        "        data, target, sum = data.to(device), target.to(device), sum.to(device)\n",
        "\n",
        "        # zero out the gradients\n",
        "        optimizer.zero_grad()\n",
        "\n",
        "        # forward pass the model with the data\n",
        "        output, sum_output = model(data,random_number.to(device))\n",
        "\n",
        "        # compute the loss occured\n",
        "        mnist_loss = F.nll_loss(output, target)\n",
        "        addition_loss = F.nll_loss(sum_output, sum)\n",
        "        loss= (mnist_loss + addition_loss)/2\n",
        "\n",
        "        epoch_loss += loss.item()\n",
        "\n",
        "        # compute the backward gradients\n",
        "        loss.backward()\n",
        "\n",
        "        # update the optimizer params\n",
        "        optimizer.step()\n",
        "    print('Train set: Average loss: {:.4f}'.format(loss.item()))\n",
        "\n",
        "    train_loss = epoch_loss / len(train_loader)\n",
        "    return train_loss\n"
      ],
      "metadata": {
        "id": "Rqc1qIME8BEg"
      },
      "execution_count": 81,
      "outputs": []
    },
    {
      "cell_type": "markdown",
      "source": [
        "## **Testing phase**"
      ],
      "metadata": {
        "id": "2eGcnAK4AggE"
      }
    },
    {
      "cell_type": "code",
      "source": [
        "def test(model, device, test_loader,test_type='Val'):\n",
        "    # set the model in evaluation model\n",
        "    model.eval()\n",
        "\n",
        "    # set the loss to zero\n",
        "    test_loss = 0\n",
        "    \n",
        "    # the number of correct classifications\n",
        "    correct_mnist = 0\n",
        "    correct_addition = 0\n",
        "\n",
        "    # turn off gradients during the testing\n",
        "    with torch.no_grad():\n",
        "        for (data, target, random_number, sum) in test_loader:\n",
        "\n",
        "            # move the data to device\n",
        "            target = target.type(torch.LongTensor)\n",
        "            sum = sum.type(torch.LongTensor)\n",
        "            data, target,sum = data.to(device), target.to(device), sum.to(device)\n",
        "\n",
        "            # forward pass the model and get the output\n",
        "            output, sum_output = model(data,random_number.to(device))\n",
        "\n",
        "            # accumulate the loss from both the network outputs\n",
        "            test_loss += (F.nll_loss(output, target, reduction='sum').item() + F.nll_loss(sum_output, sum, reduction='sum').item())/2\n",
        "\n",
        "            # get the index of max log-probability\n",
        "            mnist_pred = output.argmax(dim=1, keepdim=True)\n",
        "            addition_pred = sum_output.argmax(dim=1, keepdim=True)\n",
        "\n",
        "            # increment the correct prediction count if pred is correct\n",
        "            correct_mnist += mnist_pred.eq(target.view_as(mnist_pred)).sum().item()\n",
        "            correct_addition += addition_pred.eq(sum.view_as(addition_pred)).sum().item()\n",
        "\n",
        "\n",
        "    # test loss divided by the total number of items in test dataset\n",
        "    test_loss /= len(test_loader.dataset)\n",
        "    print(f'{test_type} set: Average loss: {test_loss:.3f}, MNist Accuracy:{100. * correct_mnist/len(test_loader.dataset)}, Sum_Accuracy:{100. * correct_addition/len(test_loader.dataset)}')\n",
        "\n",
        "    return test_loss\n"
      ],
      "metadata": {
        "id": "9wJQUq0R-Ph_"
      },
      "execution_count": 82,
      "outputs": []
    },
    {
      "cell_type": "markdown",
      "source": [
        "## **Testing and Training the model**"
      ],
      "metadata": {
        "id": "GOB5oJlLBawL"
      }
    },
    {
      "cell_type": "code",
      "source": [
        "# move the model to the specified device\n",
        "model = Net().to(device)\n",
        "\n",
        "# use Stochastic Gradient Descent as the optimizer\n",
        "optimizer = optim.SGD(model.parameters(), lr=0.01, momentum=0.7)\n",
        "\n",
        "# set the number of epochs to train for\n",
        "num_epoch = 20\n",
        "\n",
        "train_loss_values = []\n",
        "valid_loss_values = []\n",
        "\n",
        "# run it for epoch number of times\n",
        "for epoch in range(1, num_epoch+1):\n",
        "    print('\\nEpoch {} : '.format(epoch))\n",
        "    # train the model\n",
        "    train_loss = train(model, device, train_loader, optimizer, epoch)\n",
        "    valid_loss = test(model, device, val_loader)\n",
        "    # test the model\n",
        "\n",
        "    train_loss_values.append(train_loss)\n",
        "    valid_loss_values.append(valid_loss)"
      ],
      "metadata": {
        "colab": {
          "base_uri": "https://localhost:8080/"
        },
        "id": "4w6xOYY-BZW0",
        "outputId": "41b8dd2a-bcef-491d-9b76-9cc4dd62ced2"
      },
      "execution_count": 83,
      "outputs": [
        {
          "output_type": "stream",
          "name": "stdout",
          "text": [
            "\n",
            "Epoch 1 : \n",
            "Train set: Average loss: 1.9467\n",
            "Val set: Average loss: 1.929, MNist Accuracy:72.58, Sum_Accuracy:10.28\n",
            "\n",
            "Epoch 2 : \n",
            "Train set: Average loss: 1.2593\n",
            "Val set: Average loss: 1.322, MNist Accuracy:93.14, Sum_Accuracy:13.06\n",
            "\n",
            "Epoch 3 : \n",
            "Train set: Average loss: 1.1784\n",
            "Val set: Average loss: 1.227, MNist Accuracy:95.52, Sum_Accuracy:17.94\n",
            "\n",
            "Epoch 4 : \n",
            "Train set: Average loss: 1.1803\n",
            "Val set: Average loss: 1.171, MNist Accuracy:96.42, Sum_Accuracy:23.24\n",
            "\n",
            "Epoch 5 : \n",
            "Train set: Average loss: 1.1230\n",
            "Val set: Average loss: 1.110, MNist Accuracy:97.2, Sum_Accuracy:32.88\n",
            "\n",
            "Epoch 6 : \n",
            "Train set: Average loss: 1.0567\n",
            "Val set: Average loss: 1.046, MNist Accuracy:97.6, Sum_Accuracy:39.76\n",
            "\n",
            "Epoch 7 : \n",
            "Train set: Average loss: 0.9498\n",
            "Val set: Average loss: 0.971, MNist Accuracy:97.96, Sum_Accuracy:49.22\n",
            "\n",
            "Epoch 8 : \n",
            "Train set: Average loss: 0.9162\n",
            "Val set: Average loss: 0.892, MNist Accuracy:98.14, Sum_Accuracy:59.82\n",
            "\n",
            "Epoch 9 : \n",
            "Train set: Average loss: 0.8019\n",
            "Val set: Average loss: 0.815, MNist Accuracy:98.28, Sum_Accuracy:74.6\n",
            "\n",
            "Epoch 10 : \n",
            "Train set: Average loss: 0.6956\n",
            "Val set: Average loss: 0.721, MNist Accuracy:98.24, Sum_Accuracy:78.16\n",
            "\n",
            "Epoch 11 : \n",
            "Train set: Average loss: 0.6312\n",
            "Val set: Average loss: 0.643, MNist Accuracy:98.56, Sum_Accuracy:86.12\n",
            "\n",
            "Epoch 12 : \n",
            "Train set: Average loss: 0.5280\n",
            "Val set: Average loss: 0.544, MNist Accuracy:98.48, Sum_Accuracy:92.68\n",
            "\n",
            "Epoch 13 : \n",
            "Train set: Average loss: 0.4255\n",
            "Val set: Average loss: 0.464, MNist Accuracy:98.72, Sum_Accuracy:93.96\n",
            "\n",
            "Epoch 14 : \n",
            "Train set: Average loss: 0.3824\n",
            "Val set: Average loss: 0.390, MNist Accuracy:98.64, Sum_Accuracy:96.34\n",
            "\n",
            "Epoch 15 : \n",
            "Train set: Average loss: 0.2654\n",
            "Val set: Average loss: 0.322, MNist Accuracy:98.8, Sum_Accuracy:97.14\n",
            "\n",
            "Epoch 16 : \n",
            "Train set: Average loss: 0.2889\n",
            "Val set: Average loss: 0.265, MNist Accuracy:98.86, Sum_Accuracy:98.02\n",
            "\n",
            "Epoch 17 : \n",
            "Train set: Average loss: 0.2040\n",
            "Val set: Average loss: 0.225, MNist Accuracy:98.86, Sum_Accuracy:98.2\n",
            "\n",
            "Epoch 18 : \n",
            "Train set: Average loss: 0.1787\n",
            "Val set: Average loss: 0.193, MNist Accuracy:98.88, Sum_Accuracy:98.22\n",
            "\n",
            "Epoch 19 : \n",
            "Train set: Average loss: 0.1371\n",
            "Val set: Average loss: 0.167, MNist Accuracy:98.74, Sum_Accuracy:98.36\n",
            "\n",
            "Epoch 20 : \n",
            "Train set: Average loss: 0.1141\n",
            "Val set: Average loss: 0.146, MNist Accuracy:98.8, Sum_Accuracy:98.5\n"
          ]
        }
      ]
    },
    {
      "cell_type": "markdown",
      "source": [
        "## **Visualization**"
      ],
      "metadata": {
        "id": "0FqVK-IAdAdC"
      }
    },
    {
      "cell_type": "code",
      "source": [
        "import matplotlib.pyplot as plt\n",
        "%matplotlib inline\n",
        "\n",
        "import seaborn as sns\n",
        "\n",
        "# Use plot styling from seaborn.\n",
        "sns.set(style='darkgrid')\n",
        "\n",
        "# Increase the plot size and font size.\n",
        "sns.set(font_scale=1.5)\n",
        "plt.rcParams[\"figure.figsize\"] = (12,6)\n",
        "\n",
        "# Plot the learning curve.\n",
        "plt.plot(np.array(train_loss_values), 'b-o', label=\"Training\")\n",
        "plt.plot(np.array(valid_loss_values), 'g-o', label=\"Validation\")\n",
        "\n",
        "\n",
        "# Label the plot.\n",
        "plt.title(\"Training & Validation Loss\")\n",
        "plt.xlabel(\"Epoch\")\n",
        "plt.ylabel(\"Loss\")\n",
        "plt.legend()\n",
        "plt.show()"
      ],
      "metadata": {
        "colab": {
          "base_uri": "https://localhost:8080/",
          "height": 427
        },
        "id": "BRX2NCAaBmcY",
        "outputId": "cea1aabc-12a8-4d61-d13c-5c5433413ff8"
      },
      "execution_count": 85,
      "outputs": [
        {
          "output_type": "display_data",
          "data": {
            "text/plain": [
              "<Figure size 864x432 with 1 Axes>"
            ],
            "image/png": "[encoded data removed]"
          },
          "metadata": {}
        }
      ]
    },
    {
      "cell_type": "code",
      "source": [
        "def prediction(image,rnum):\n",
        "\n",
        "    rnum_ohe = torch.zeros(11).long()\n",
        "    rnum_ohe[rnum] = 1\n",
        "    rnum_ohe = rnum_ohe[:-1]\n",
        "\n",
        "    #tensored_image = image.unsqueeze(dim=1).to(device)\n",
        "    output_1,output_2 = model(image.unsqueeze(dim=1).to(device),rnum_ohe.reshape(-1,10).to(device))\n",
        "\n",
        "    mnist_pred = output_1.argmax(dim=1, keepdim=True)\n",
        "    sum_pred = output_2.argmax(dim=1, keepdim=True)\n",
        "\n",
        "    #print(f\"Random Number Generated is {rnum}\")\n",
        "    fig = plt.figure(figsize=(5, 5))\n",
        "    ax = fig.add_subplot(3, 3, 1)\n",
        "    ax.axis('off')\n",
        "    ax.imshow(image.cpu().numpy().squeeze())\n",
        "    ax.set_title(f'Random Number Generated : {rnum} \\n'\n",
        "                 f'Mnist Prediction: {mnist_pred.item()} \\n'\n",
        "                 f'Sum: {rnum} + {mnist_pred.item()} = {sum_pred.item()}')\n",
        "    return mnist_pred, sum_pred"
      ],
      "metadata": {
        "id": "6BihBIfDRXml"
      },
      "execution_count": 86,
      "outputs": []
    },
    {
      "cell_type": "markdown",
      "source": [
        "## **Prediction**"
      ],
      "metadata": {
        "id": "Q_3QE9W1dF39"
      }
    },
    {
      "cell_type": "code",
      "source": [
        "image,_,_,_ = test_dataset[random.randint(1,10000)]\n",
        "rnum=random.randint(0,9)\n",
        "mnist_pred, sum_pred =prediction(image,rnum)"
      ],
      "metadata": {
        "colab": {
          "base_uri": "https://localhost:8080/",
          "height": 172
        },
        "id": "lKJk2hVxRe-H",
        "outputId": "39d8c80e-bdaf-4dce-960d-6a65dd052b23"
      },
      "execution_count": 88,
      "outputs": [
        {
          "output_type": "display_data",
          "data": {
            "text/plain": [
              "<Figure size 360x360 with 1 Axes>"
            ],
            "image/png": "[encoded data removed]"
          },
          "metadata": {}
        }
      ]
    },
    {
      "cell_type": "code",
      "source": [
        "image,_,_,_ = test_dataset[random.randint(1,10000)]\n",
        "rnum=random.randint(0,9)\n",
        "mnist_pred, sum_pred =prediction(image,rnum)"
      ],
      "metadata": {
        "colab": {
          "base_uri": "https://localhost:8080/",
          "height": 172
        },
        "id": "-g7TuKCyRhII",
        "outputId": "a7698765-e705-4461-9eef-3d9209403349"
      },
      "execution_count": 89,
      "outputs": [
        {
          "output_type": "display_data",
          "data": {
            "text/plain": [
              "<Figure size 360x360 with 1 Axes>"
            ],
            "image/png": "[encoded data removed]"
          },
          "metadata": {}
        }
      ]
    },
    {
      "cell_type": "code",
      "source": [
        "image,_,_,_ = test_dataset[random.randint(1,10000)]\n",
        "rnum=random.randint(0,9)\n",
        "mnist_pred, sum_pred =prediction(image,rnum)"
      ],
      "metadata": {
        "colab": {
          "base_uri": "https://localhost:8080/",
          "height": 172
        },
        "id": "vMYgtwp6Rn8C",
        "outputId": "aa2ca5a6-f0a6-4546-9763-6920921f3bb3"
      },
      "execution_count": 90,
      "outputs": [
        {
          "output_type": "display_data",
          "data": {
            "text/plain": [
              "<Figure size 360x360 with 1 Axes>"
            ],
            "image/png": "[encoded data removed]"
          },
          "metadata": {}
        }
      ]
    },
    {
      "cell_type": "code",
      "source": [],
      "metadata": {
        "id": "TYWtZtBYRpbs"
      },
      "execution_count": null,
      "outputs": []
    }
  ]
}